{
  "cells": [
    {
      "cell_type": "markdown",
      "metadata": {
        "id": "view-in-github",
        "colab_type": "text"
      },
      "source": [
        "<a href=\"https://colab.research.google.com/github/Rashween-Kaur/Python/blob/main/AT_Lesson_46_Reference.ipynb\" target=\"_parent\"><img src=\"https://colab.research.google.com/assets/colab-badge.svg\" alt=\"Open In Colab\"/></a>"
      ]
    },
    {
      "cell_type": "markdown",
      "metadata": {
        "id": "Ixpeyh07YH4V"
      },
      "source": [
        "# Lesson 46: Probability"
      ]
    },
    {
      "cell_type": "markdown",
      "metadata": {
        "id": "WeW6wOdHnsl3"
      },
      "source": [
        "**WARNING:** The reference notebook is meant **ONLY** for a teacher. Please **DO NOT** share it with any student. The contents of the reference notebook are meant only to prepare a teacher for a class. To conduct the class, use the class copy of the reference notebook.\n",
        "\n",
        "|Particulars|Description|\n",
        "|-|-|\n",
        "|**Topic**|Probability|\n",
        "|||\n",
        "|**Class Description**|In this class, a student will learn to calculate the probability of an event|\n",
        "|||\n",
        "|**Class**|C46|\n",
        "|||\n",
        "|**Class Time**|45 minutes|\n",
        "|||\n",
        "|**Goals**|Calculate the probability of a person having a liver disease|\n",
        "||Find out the age group of people who are more likely to have liver disease|\n",
        "||Based on the probability, infer what age group of patients should be prioritised for testing for the liver disease|\n",
        "|||\n",
        "|**Teacher Resources**|Google Account|\n",
        "||Link to Lesson 46 Colab reference notebook|\n",
        "||Laptop with internet connectivity|\n",
        "||Earphones with mic|\n",
        "|||\n",
        "|**Student Resources**|Google Account|\n",
        "||Laptop with internet connectivity|\n",
        "||Earphones with mic|"
      ]
    },
    {
      "cell_type": "markdown",
      "metadata": {
        "id": "yAuUqUvRnsDo"
      },
      "source": [
        "---"
      ]
    },
    {
      "cell_type": "markdown",
      "metadata": {
        "id": "mupNBfxCY5Hb"
      },
      "source": [
        "### Teacher-Student Activities\n",
        "\n",
        "In this class, we will learn the concept of probability and binomial distribution.\n",
        "\n",
        "Here we have a dataset of 583 patients who were diagnosed for the liver disease. Out of them, 416 patients were tested positive and 167 were tested negative for the liver disease. The data is collected from the North East of Andhra Pradesh, India. We need to find out what is the probability of a patient having the disease. We also need to find out what is the probability of a patient having the disease given that the patient is\n",
        "\n",
        "- a juvenile i.e. a person whose age is less than 18 years.\n",
        "\n",
        "- an adult i.e. a person whose age is greater than or equal to 18 years but less than 50 years.\n",
        "\n",
        "- an elderly i.e. a person whose age is at least 50 years.\n",
        "\n",
        "We also need to create a binomial distribution model to check what is the probability distribution of a patient having a disease.\n",
        "\n",
        "The `Dataset` column is a class label used to divide groups into liver patients (liver disease) or not (no disease). This data set contains 441 male patient records and 142 female patient records.\n",
        "\n",
        "\n",
        "Use these patient records to determine which patients have liver disease and which ones do not."
      ]
    },
    {
      "cell_type": "markdown",
      "metadata": {
        "id": "F-Ow_9kn_6kH"
      },
      "source": [
        "---"
      ]
    },
    {
      "cell_type": "markdown",
      "metadata": {
        "id": "CRz_H9i9W8AZ"
      },
      "source": [
        "#### Data Description\n",
        "\n",
        "The dataset contains the following columns (or features):\n",
        "\n",
        "1. `Age`: Age of the patient. Any patient whose age exceeded 89 is listed as being of age \"90\".\n",
        "\n",
        "2. `Gender`: Gender of the patient\n",
        "\n",
        "3. `Total_Bilirubin`: Total Bilirubin\n",
        "\n",
        "4. `Direct_Bilirubin`: Direct Bilirubin\n",
        "\n",
        "5. `Alkaline_Phosphotase`: Alkaline Phosphatase\n",
        "\n",
        "6. `Alamine_Aminotransferase`: Alamine Aminotransferase\n",
        "\n",
        "7. `Aspartate_Aminotransferase`: Aspartate Aminotransferase\n",
        "\n",
        "8. `Total_Protiens`: Total Proteins\n",
        "\n",
        "9. `Albumin`: Albumin\n",
        "\n",
        "10. `Albumin_and_Globulin_Ratio`: Ratio Albumin and Globulin Ratio\n",
        "\n",
        "11. `Dataset`: Whether a patient has the liver disease or not.\n",
        " `1` means a patient has the liver disease and `2` means a patient does not have the liver disease.\n",
        "\n",
        "Link: https://s3-student-datasets-bucket.whjr.online/whitehat-ds-datasets/indian-liver-patients/indian_liver_patient.csv\n",
        "\n",
        "#### Acknowledgements\n",
        "\n",
        "This dataset was downloaded from the UCI ML Repository:\n",
        "\n",
        "Lichman, M. (2013). [UCI Machine Learning Repository](https:/archive.ics.uci.edu/ml/datasets/ILPD+(Indian+Liver+Patient+Dataset)). Irvine, CA: University of California, School of Information and Computer Science.\n",
        "\n",
        "Source: https://archive.ics.uci.edu/ml/datasets/ILPD+(Indian+Liver+Patient+Dataset)"
      ]
    },
    {
      "cell_type": "markdown",
      "metadata": {
        "id": "fPMppaI5Kim7"
      },
      "source": [
        "---"
      ]
    },
    {
      "cell_type": "markdown",
      "metadata": {
        "id": "gXtjSNhlKjq4"
      },
      "source": [
        "#### Activity 1: Probability\n",
        "\n",
        "*Probability of an outcome or an event is defined as the ratio of the number of favourable outcomes to the total number of possible outcomes.*\n",
        "\n",
        "Consider throwing a die.\n",
        "\n",
        "<img src='https://student-datasets-bucket.s3.ap-south-1.amazonaws.com/images/fair-die.jpg' width=200>\n",
        "\n",
        "It has six sides labelled as 1, 2, 3, 4, 5 and 6. So whenever you throw a die you will get either 1, 2, 3, 4, 5 or 6.\n",
        "\n",
        "Suppose you are playing a game in which you need to get $6$ when you roll a die to win the game. So $6$ is your favourable outcome to win the game. Hence, the probability of getting 6 is **one over six**, i.e. $\\frac{1}{6}$ because there is only **one** favourable outcome (i.e. getting $6$ on dice) out of six possible outcomes.\n",
        "\n",
        "Mathematically, the probability of an outcome or an event $E$ is given by $$P(E) = \\frac{n(E)}{n(S)}$$\n",
        "\n",
        "or\n",
        "\n",
        "$$P(E) = \\frac{\\text{Number of favourable outcomes}}{\\text{Total number of possible outcomes}}$$\n",
        "\n",
        "where\n",
        "\n",
        "- $E$ is a set containing favourable outcomes\n",
        "\n",
        "- $n(E)$ is the number of items contained in the set $E$\n",
        "\n",
        "- $S$ is a set of all possible outcomes which is also known as **sample space**\n",
        "\n",
        "- $n(S)$ the number of items contained in the set $S$\n",
        "\n",
        "In the game of getting $6$ to win the game, the set of favourable outcome(s) is $E = \\{6\\}$ and the set of possible outcomes is $S = \\{1, 2, 3, 4, 5, 6\\}$\n",
        "\n",
        "Hence, the probability of the outcome of getting $6$ is $\\frac{1}{6}$\n",
        "\n",
        "Let's change the rules of the game by saying that a player can take out their pawn only if they get a prime number. In this case, the set of favourable outcomes becomes $E = \\{2, 3, 5\\}$\n",
        "\n",
        "So the probability of taking out the pawn or in other words, the probability of the outcome of getting either 2 or 3 or 5 is $\\frac{3}{6} = \\frac{1}{2}$ because there are three items in the set $E$.\n",
        "\n",
        "**Note:**\n",
        "\n",
        "- Probability is just a measure of finding out which events are more likely to occur. It does not mean that the highly likely events will definitely occur. The probability of an event which definitely will occur is 1. Similarly, the probability of an event which will definitely NOT occur is 0.\n",
        "\n",
        "- The sum of the probability of occurrence of an event and the probability of that event not occurring is always 1.\n",
        "\n",
        "With this idea in mind, let's find out the probability of a patient having the liver disease."
      ]
    },
    {
      "cell_type": "markdown",
      "metadata": {
        "id": "JPxVxpN1bXBj"
      },
      "source": [
        "---"
      ]
    },
    {
      "cell_type": "markdown",
      "metadata": {
        "id": "17CsGemdbXqx"
      },
      "source": [
        "#### Activity 2: Data Preparation\n",
        "\n",
        "Let's prepare the dataset for analysis by:\n",
        "\n",
        "- Treating the null values (if there are any)\n",
        "\n",
        "- Renaming the `Dataset` column with the name `Disease`, the `Alkaline_Phosphotase` column with the name `Alkaline_Phosphatase` and `Alamine_Aminotransferase` column with the name `Alanine_Aminotransferase`\n",
        "\n",
        "- Labelling each patient as a juvenile, an adult or an elderly based on their age\n",
        "\n",
        "- Encoding (or converting) the `Male` and `Female` values for the `Gender` column to the numeric values, i.e., `0` and `1`"
      ]
    },
    {
      "cell_type": "code",
      "execution_count": null,
      "metadata": {
        "colab": {
          "base_uri": "https://localhost:8080/",
          "height": 71
        },
        "id": "ZhuYap-dXNI5",
        "outputId": "3edb3cdc-99b4-427f-9624-180dcb78fe32"
      },
      "outputs": [
        {
          "name": "stderr",
          "output_type": "stream",
          "text": [
            "/usr/local/lib/python3.6/dist-packages/statsmodels/tools/_testing.py:19: FutureWarning: pandas.util.testing is deprecated. Use the functions in the public API at pandas.testing instead.\n",
            "  import pandas.util.testing as tm\n"
          ]
        }
      ],
      "source": [
        "# S2.1: Import the libraries.\n",
        "import numpy as np\n",
        "import pandas as pd\n",
        "import matplotlib.pyplot as plt\n",
        "import seaborn as sns"
      ]
    },
    {
      "cell_type": "code",
      "execution_count": null,
      "metadata": {
        "colab": {
          "background_save": true,
          "base_uri": "https://localhost:8080/",
          "height": 224
        },
        "id": "L5ix0KhIW6K5",
        "outputId": "b7d82b68-52f0-443e-9964-39edaaae44c8"
      },
      "outputs": [
        {
          "data": {
            "text/html": [
              "<div>\n",
              "<style scoped>\n",
              "    .dataframe tbody tr th:only-of-type {\n",
              "        vertical-align: middle;\n",
              "    }\n",
              "\n",
              "    .dataframe tbody tr th {\n",
              "        vertical-align: top;\n",
              "    }\n",
              "\n",
              "    .dataframe thead th {\n",
              "        text-align: right;\n",
              "    }\n",
              "</style>\n",
              "<table border=\"1\" class=\"dataframe\">\n",
              "  <thead>\n",
              "    <tr style=\"text-align: right;\">\n",
              "      <th></th>\n",
              "      <th>Age</th>\n",
              "      <th>Gender</th>\n",
              "      <th>Total_Bilirubin</th>\n",
              "      <th>Direct_Bilirubin</th>\n",
              "      <th>Alkaline_Phosphotase</th>\n",
              "      <th>Alamine_Aminotransferase</th>\n",
              "      <th>Aspartate_Aminotransferase</th>\n",
              "      <th>Total_Protiens</th>\n",
              "      <th>Albumin</th>\n",
              "      <th>Albumin_and_Globulin_Ratio</th>\n",
              "      <th>Dataset</th>\n",
              "    </tr>\n",
              "  </thead>\n",
              "  <tbody>\n",
              "    <tr>\n",
              "      <th>0</th>\n",
              "      <td>65</td>\n",
              "      <td>Female</td>\n",
              "      <td>0.7</td>\n",
              "      <td>0.1</td>\n",
              "      <td>187</td>\n",
              "      <td>16</td>\n",
              "      <td>18</td>\n",
              "      <td>6.8</td>\n",
              "      <td>3.3</td>\n",
              "      <td>0.90</td>\n",
              "      <td>1</td>\n",
              "    </tr>\n",
              "    <tr>\n",
              "      <th>1</th>\n",
              "      <td>62</td>\n",
              "      <td>Male</td>\n",
              "      <td>10.9</td>\n",
              "      <td>5.5</td>\n",
              "      <td>699</td>\n",
              "      <td>64</td>\n",
              "      <td>100</td>\n",
              "      <td>7.5</td>\n",
              "      <td>3.2</td>\n",
              "      <td>0.74</td>\n",
              "      <td>1</td>\n",
              "    </tr>\n",
              "    <tr>\n",
              "      <th>2</th>\n",
              "      <td>62</td>\n",
              "      <td>Male</td>\n",
              "      <td>7.3</td>\n",
              "      <td>4.1</td>\n",
              "      <td>490</td>\n",
              "      <td>60</td>\n",
              "      <td>68</td>\n",
              "      <td>7.0</td>\n",
              "      <td>3.3</td>\n",
              "      <td>0.89</td>\n",
              "      <td>1</td>\n",
              "    </tr>\n",
              "    <tr>\n",
              "      <th>3</th>\n",
              "      <td>58</td>\n",
              "      <td>Male</td>\n",
              "      <td>1.0</td>\n",
              "      <td>0.4</td>\n",
              "      <td>182</td>\n",
              "      <td>14</td>\n",
              "      <td>20</td>\n",
              "      <td>6.8</td>\n",
              "      <td>3.4</td>\n",
              "      <td>1.00</td>\n",
              "      <td>1</td>\n",
              "    </tr>\n",
              "    <tr>\n",
              "      <th>4</th>\n",
              "      <td>72</td>\n",
              "      <td>Male</td>\n",
              "      <td>3.9</td>\n",
              "      <td>2.0</td>\n",
              "      <td>195</td>\n",
              "      <td>27</td>\n",
              "      <td>59</td>\n",
              "      <td>7.3</td>\n",
              "      <td>2.4</td>\n",
              "      <td>0.40</td>\n",
              "      <td>1</td>\n",
              "    </tr>\n",
              "  </tbody>\n",
              "</table>\n",
              "</div>"
            ],
            "text/plain": [
              "   Age  Gender  Total_Bilirubin  ...  Albumin  Albumin_and_Globulin_Ratio  Dataset\n",
              "0   65  Female              0.7  ...      3.3                        0.90        1\n",
              "1   62    Male             10.9  ...      3.2                        0.74        1\n",
              "2   62    Male              7.3  ...      3.3                        0.89        1\n",
              "3   58    Male              1.0  ...      3.4                        1.00        1\n",
              "4   72    Male              3.9  ...      2.4                        0.40        1\n",
              "\n",
              "[5 rows x 11 columns]"
            ]
          },
          "execution_count": null,
          "metadata": {},
          "output_type": "execute_result"
        }
      ],
      "source": [
        "# S2.2: Load the dataset\n",
        "file_loc = 'https://s3-student-datasets-bucket.whjr.online/whitehat-ds-datasets/indian-liver-patients/indian_liver_patient.csv'\n",
        "df = pd.read_csv(file_loc)\n",
        "df.head()"
      ]
    },
    {
      "cell_type": "code",
      "execution_count": null,
      "metadata": {
        "colab": {
          "background_save": true,
          "base_uri": "https://localhost:8080/",
          "height": 323
        },
        "id": "UzsbSOemXCXq",
        "outputId": "2b48a701-86cf-4bc8-c56a-dce34431e687"
      },
      "outputs": [
        {
          "name": "stdout",
          "output_type": "stream",
          "text": [
            "<class 'pandas.core.frame.DataFrame'>\n",
            "RangeIndex: 583 entries, 0 to 582\n",
            "Data columns (total 11 columns):\n",
            " #   Column                      Non-Null Count  Dtype  \n",
            "---  ------                      --------------  -----  \n",
            " 0   Age                         583 non-null    int64  \n",
            " 1   Gender                      583 non-null    object \n",
            " 2   Total_Bilirubin             583 non-null    float64\n",
            " 3   Direct_Bilirubin            583 non-null    float64\n",
            " 4   Alkaline_Phosphotase        583 non-null    int64  \n",
            " 5   Alamine_Aminotransferase    583 non-null    int64  \n",
            " 6   Aspartate_Aminotransferase  583 non-null    int64  \n",
            " 7   Total_Protiens              583 non-null    float64\n",
            " 8   Albumin                     583 non-null    float64\n",
            " 9   Albumin_and_Globulin_Ratio  579 non-null    float64\n",
            " 10  Dataset                     583 non-null    int64  \n",
            "dtypes: float64(5), int64(5), object(1)\n",
            "memory usage: 50.2+ KB\n"
          ]
        }
      ],
      "source": [
        "# S2.3: Get the dataset information.\n",
        "df.info()"
      ]
    },
    {
      "cell_type": "code",
      "execution_count": null,
      "metadata": {
        "colab": {
          "background_save": true,
          "base_uri": "https://localhost:8080/",
          "height": 221
        },
        "id": "Ewbd0steXDJd",
        "outputId": "7b8eeeb4-9ee4-4276-a945-540188cff707"
      },
      "outputs": [
        {
          "data": {
            "text/plain": [
              "Age                           0\n",
              "Gender                        0\n",
              "Total_Bilirubin               0\n",
              "Direct_Bilirubin              0\n",
              "Alkaline_Phosphotase          0\n",
              "Alamine_Aminotransferase      0\n",
              "Aspartate_Aminotransferase    0\n",
              "Total_Protiens                0\n",
              "Albumin                       0\n",
              "Albumin_and_Globulin_Ratio    4\n",
              "Dataset                       0\n",
              "dtype: int64"
            ]
          },
          "execution_count": null,
          "metadata": {},
          "output_type": "execute_result"
        }
      ],
      "source": [
        "# S2.4: Check for the null values.\n",
        "df.isnull().sum()"
      ]
    },
    {
      "cell_type": "code",
      "execution_count": null,
      "metadata": {
        "colab": {
          "background_save": true,
          "base_uri": "https://localhost:8080/",
          "height": 34
        },
        "id": "81SnBkfIaihm",
        "outputId": "9e812326-b176-472c-9c45-911d56ae6cd8"
      },
      "outputs": [
        {
          "data": {
            "text/plain": [
              "0"
            ]
          },
          "execution_count": null,
          "metadata": {},
          "output_type": "execute_result"
        }
      ],
      "source": [
        "# S2.5: Treat the missing values and check for the null values again.\n",
        "df.loc[df['Albumin_and_Globulin_Ratio'].isnull() == True, 'Albumin_and_Globulin_Ratio'] = df['Albumin_and_Globulin_Ratio'].median()\n",
        "df['Albumin_and_Globulin_Ratio'].isnull().sum()"
      ]
    },
    {
      "cell_type": "markdown",
      "metadata": {
        "id": "d2qRK7aNcgY0"
      },
      "source": [
        "**Renaming a Column**\n",
        "\n",
        "To rename a column in a Pandas DataFrame, use the `rename()` function. It requires a dictionary as an input to the `columns` parameter. The dictionary must contain the old column names and new column names as a key-value pair respectively.\n",
        "\n",
        "**Syntax:** `dataframe.rename(columns=dictionary_of_new_and_old_names)`\n",
        "\n",
        "where `dictionary_of_new_and_old_names` is a dictionary containing old column names and new column names as a key-value pair respectively."
      ]
    },
    {
      "cell_type": "code",
      "execution_count": null,
      "metadata": {
        "colab": {
          "background_save": true
        },
        "id": "zSJRKUaDXEgv"
      },
      "outputs": [],
      "source": [
        "# S2.6: Rename the 'Dataset' column with the name 'Disease'. Also, rename the 'Alkaline_Phosphotase' column with 'Alkaline_Phosphatase'\n",
        "# Also, rename the 'Alamine_Aminotransferase' column with 'Alanine_Aminotransferase'\n",
        "df.rename(columns={'Dataset' : 'Disease',\n",
        "                   'Alkaline_Phosphotase' : 'Alkaline_Phosphatase',\n",
        "                   'Alamine_Aminotransferase': 'Alanine_Aminotransferase'}, inplace=True)"
      ]
    },
    {
      "cell_type": "markdown",
      "metadata": {
        "id": "NISiQZ6CdwKF"
      },
      "source": [
        "**Note:** By setting the `True` value to the `inplace` parameter, we are telling Python to override the current column name permanently. Otherwise, the column will get changed only for that code execution. For further code execution, the original column name will get reset automatically."
      ]
    },
    {
      "cell_type": "code",
      "execution_count": null,
      "metadata": {
        "colab": {
          "background_save": true,
          "base_uri": "https://localhost:8080/",
          "height": 102
        },
        "id": "THqhfkxku_H1",
        "outputId": "f1d0f486-be7b-4ac8-efb5-bd4a26799fa4"
      },
      "outputs": [
        {
          "data": {
            "text/plain": [
              "Index(['Age', 'Gender', 'Total_Bilirubin', 'Direct_Bilirubin',\n",
              "       'Alkaline_Phosphatase', 'Alanine_Aminotransferase',\n",
              "       'Aspartate_Aminotransferase', 'Total_Protiens', 'Albumin',\n",
              "       'Albumin_and_Globulin_Ratio', 'Disease'],\n",
              "      dtype='object')"
            ]
          },
          "execution_count": null,
          "metadata": {},
          "output_type": "execute_result"
        }
      ],
      "source": [
        "# S2.7: Check whether we have the desired column names.\n",
        "df.columns"
      ]
    },
    {
      "cell_type": "markdown",
      "metadata": {
        "id": "cDkmLtNtgskf"
      },
      "source": [
        "**Labelling Age Group**\n",
        "\n",
        "We need to label each patient as\n",
        "\n",
        "- a juvenile i.e. a person whose age is less than 18 years.\n",
        "\n",
        "- an adult i.e. a person whose age is greater than or equal to 18 years but less than 50 years.\n",
        "\n",
        "- an elderly i.e. a person whose age is at least 50 years.\n",
        "\n",
        "so that later we can find out the probability of a patient having the liver disease given that he/she is\n",
        "\n",
        "- a juvenile\n",
        "\n",
        "- an adult\n",
        "\n",
        "- an elderly"
      ]
    },
    {
      "cell_type": "code",
      "execution_count": null,
      "metadata": {
        "colab": {
          "background_save": true,
          "base_uri": "https://localhost:8080/",
          "height": 221
        },
        "id": "3UvrAlwXOcKJ",
        "outputId": "900ef12f-3cd3-42e8-e8de-32da75b72dd4"
      },
      "outputs": [
        {
          "data": {
            "text/plain": [
              "0      3\n",
              "1      3\n",
              "2      3\n",
              "3      3\n",
              "4      3\n",
              "      ..\n",
              "578    3\n",
              "579    2\n",
              "580    3\n",
              "581    2\n",
              "582    2\n",
              "Length: 583, dtype: int64"
            ]
          },
          "execution_count": null,
          "metadata": {},
          "output_type": "execute_result"
        }
      ],
      "source": [
        "# S2.8: Create a function which takes a Pandas series as an input and returns another Pandas series as an output containing items 1, 2 and 3.\n",
        "def age_group(age_series):\n",
        "  age_group_list = []\n",
        "  for age in age_series:\n",
        "    if age < 18:\n",
        "      age_group_list.append(1) # 1 means juvenile: a patient whose age is less that 18 years.\n",
        "    elif (age >= 18) and (age < 50):\n",
        "      age_group_list.append(2) # 2 means adult: a patient whose age is at greater than 18 years but less than 50 years.\n",
        "    else:\n",
        "      age_group_list.append(3) # 3 means eldery: a patient whose age is at least 50 years.\n",
        "  return pd.Series(data=age_group_list, index=age_series.index)\n",
        "\n",
        "age_group_series = age_group(df['Age'])\n",
        "age_group_series"
      ]
    },
    {
      "cell_type": "code",
      "execution_count": null,
      "metadata": {
        "colab": {
          "background_save": true,
          "base_uri": "https://localhost:8080/",
          "height": 224
        },
        "id": "xOzufwp3Fd1r",
        "outputId": "72a1ebba-63c0-4196-980c-bbd9c7a2c8c4"
      },
      "outputs": [
        {
          "data": {
            "text/html": [
              "<div>\n",
              "<style scoped>\n",
              "    .dataframe tbody tr th:only-of-type {\n",
              "        vertical-align: middle;\n",
              "    }\n",
              "\n",
              "    .dataframe tbody tr th {\n",
              "        vertical-align: top;\n",
              "    }\n",
              "\n",
              "    .dataframe thead th {\n",
              "        text-align: right;\n",
              "    }\n",
              "</style>\n",
              "<table border=\"1\" class=\"dataframe\">\n",
              "  <thead>\n",
              "    <tr style=\"text-align: right;\">\n",
              "      <th></th>\n",
              "      <th>Age</th>\n",
              "      <th>Gender</th>\n",
              "      <th>Total_Bilirubin</th>\n",
              "      <th>Direct_Bilirubin</th>\n",
              "      <th>Alkaline_Phosphatase</th>\n",
              "      <th>Alanine_Aminotransferase</th>\n",
              "      <th>Aspartate_Aminotransferase</th>\n",
              "      <th>Total_Protiens</th>\n",
              "      <th>Albumin</th>\n",
              "      <th>Albumin_and_Globulin_Ratio</th>\n",
              "      <th>Disease</th>\n",
              "      <th>Age_Group</th>\n",
              "    </tr>\n",
              "  </thead>\n",
              "  <tbody>\n",
              "    <tr>\n",
              "      <th>0</th>\n",
              "      <td>65</td>\n",
              "      <td>Female</td>\n",
              "      <td>0.7</td>\n",
              "      <td>0.1</td>\n",
              "      <td>187</td>\n",
              "      <td>16</td>\n",
              "      <td>18</td>\n",
              "      <td>6.8</td>\n",
              "      <td>3.3</td>\n",
              "      <td>0.90</td>\n",
              "      <td>1</td>\n",
              "      <td>3</td>\n",
              "    </tr>\n",
              "    <tr>\n",
              "      <th>1</th>\n",
              "      <td>62</td>\n",
              "      <td>Male</td>\n",
              "      <td>10.9</td>\n",
              "      <td>5.5</td>\n",
              "      <td>699</td>\n",
              "      <td>64</td>\n",
              "      <td>100</td>\n",
              "      <td>7.5</td>\n",
              "      <td>3.2</td>\n",
              "      <td>0.74</td>\n",
              "      <td>1</td>\n",
              "      <td>3</td>\n",
              "    </tr>\n",
              "    <tr>\n",
              "      <th>2</th>\n",
              "      <td>62</td>\n",
              "      <td>Male</td>\n",
              "      <td>7.3</td>\n",
              "      <td>4.1</td>\n",
              "      <td>490</td>\n",
              "      <td>60</td>\n",
              "      <td>68</td>\n",
              "      <td>7.0</td>\n",
              "      <td>3.3</td>\n",
              "      <td>0.89</td>\n",
              "      <td>1</td>\n",
              "      <td>3</td>\n",
              "    </tr>\n",
              "    <tr>\n",
              "      <th>3</th>\n",
              "      <td>58</td>\n",
              "      <td>Male</td>\n",
              "      <td>1.0</td>\n",
              "      <td>0.4</td>\n",
              "      <td>182</td>\n",
              "      <td>14</td>\n",
              "      <td>20</td>\n",
              "      <td>6.8</td>\n",
              "      <td>3.4</td>\n",
              "      <td>1.00</td>\n",
              "      <td>1</td>\n",
              "      <td>3</td>\n",
              "    </tr>\n",
              "    <tr>\n",
              "      <th>4</th>\n",
              "      <td>72</td>\n",
              "      <td>Male</td>\n",
              "      <td>3.9</td>\n",
              "      <td>2.0</td>\n",
              "      <td>195</td>\n",
              "      <td>27</td>\n",
              "      <td>59</td>\n",
              "      <td>7.3</td>\n",
              "      <td>2.4</td>\n",
              "      <td>0.40</td>\n",
              "      <td>1</td>\n",
              "      <td>3</td>\n",
              "    </tr>\n",
              "  </tbody>\n",
              "</table>\n",
              "</div>"
            ],
            "text/plain": [
              "   Age  Gender  Total_Bilirubin  ...  Albumin_and_Globulin_Ratio  Disease  Age_Group\n",
              "0   65  Female              0.7  ...                        0.90        1          3\n",
              "1   62    Male             10.9  ...                        0.74        1          3\n",
              "2   62    Male              7.3  ...                        0.89        1          3\n",
              "3   58    Male              1.0  ...                        1.00        1          3\n",
              "4   72    Male              3.9  ...                        0.40        1          3\n",
              "\n",
              "[5 rows x 12 columns]"
            ]
          },
          "execution_count": null,
          "metadata": {},
          "output_type": "execute_result"
        }
      ],
      "source": [
        "# S2.9: Add a new column to the 'df' DataFrame.\n",
        "df['Age_Group'] = age_group_series\n",
        "df.head()"
      ]
    },
    {
      "cell_type": "markdown",
      "metadata": {
        "id": "XzsuC8SNvCIS"
      },
      "source": [
        "**Encoding Gender**\n",
        "\n",
        "Encode (or convert) the `Male` and `Female` values for the `Gender` column to the numeric values, i.e., `0` and `1`. For this, we can use the `replace()` function."
      ]
    },
    {
      "cell_type": "code",
      "execution_count": null,
      "metadata": {
        "colab": {
          "background_save": true,
          "base_uri": "https://localhost:8080/",
          "height": 68
        },
        "id": "GUIaT4MhyDfe",
        "outputId": "fdc730bd-a7eb-4390-e84a-8df55fbf16d3"
      },
      "outputs": [
        {
          "data": {
            "text/plain": [
              "Male      441\n",
              "Female    142\n",
              "Name: Gender, dtype: int64"
            ]
          },
          "execution_count": null,
          "metadata": {},
          "output_type": "execute_result"
        }
      ],
      "source": [
        "# S2.10: Find the number of male and female patients before encoding.\n",
        "df['Gender'].value_counts()"
      ]
    },
    {
      "cell_type": "code",
      "execution_count": null,
      "metadata": {
        "colab": {
          "background_save": true
        },
        "id": "uA2ANlQzvOZf"
      },
      "outputs": [],
      "source": [
        "# S2.11: Encode the 'Male' & 'Female' values for the 'Gender' column to the numeric values, i.e. 0 and 1.\n",
        "df['Gender'].replace({'Male' : 0, 'Female' : 1}, inplace=True)"
      ]
    },
    {
      "cell_type": "markdown",
      "metadata": {
        "id": "D8HndcEO1L-3"
      },
      "source": [
        "**Note:** By setting the `True` value to the `inplace` parameter, we are telling Python to override the current values in the `Gender` column permanently. Otherwise, the gender values will get changed only for that code execution. For further code execution, the original gender values will get reset automatically."
      ]
    },
    {
      "cell_type": "code",
      "execution_count": null,
      "metadata": {
        "colab": {
          "background_save": true,
          "base_uri": "https://localhost:8080/",
          "height": 68
        },
        "id": "gXnNlnPswstL",
        "outputId": "a8e872fd-6785-4a61-f2bc-816ed3ee312a"
      },
      "outputs": [
        {
          "data": {
            "text/plain": [
              "0    441\n",
              "1    142\n",
              "Name: Gender, dtype: int64"
            ]
          },
          "execution_count": null,
          "metadata": {},
          "output_type": "execute_result"
        }
      ],
      "source": [
        "# S2.12: Find the number of male and female patients after encoding.\n",
        "df['Gender'].value_counts()"
      ]
    },
    {
      "cell_type": "markdown",
      "metadata": {
        "id": "t8yZTF00uvkz"
      },
      "source": [
        "---"
      ]
    },
    {
      "cell_type": "markdown",
      "metadata": {
        "id": "izRk-s8guwiK"
      },
      "source": [
        "#### Activity 3: Computing Probabilities\n",
        "\n",
        "Let's answer the following questions:\n",
        "\n",
        "1. What is the probability that a patient is a juvenile?\n",
        "\n",
        "2. What is the probability that a patient is an adult?\n",
        "\n",
        "3. What is the probability that a patient is an elderly?\n",
        "\n",
        "4. What is the probability that a patient has the liver disease given that the patient is a juvenile?\n",
        "\n",
        "5. What is the probability that a patient has the liver disease given that the patient is an adult?\n",
        "\n",
        "6. What is the probability that a patient has the liver disease given that the patient is an elderly?"
      ]
    },
    {
      "cell_type": "code",
      "execution_count": null,
      "metadata": {
        "colab": {
          "background_save": true,
          "base_uri": "https://localhost:8080/",
          "height": 85
        },
        "id": "JpHZrDitRXro",
        "outputId": "2698e2a1-5fc5-48f4-ea4c-957ec0d5f1a4"
      },
      "outputs": [
        {
          "data": {
            "text/plain": [
              "2    328\n",
              "3    230\n",
              "1     25\n",
              "Name: Age_Group, dtype: int64"
            ]
          },
          "execution_count": null,
          "metadata": {},
          "output_type": "execute_result"
        }
      ],
      "source": [
        "# S3.1 Find the number of patients who are juveniles, adults and elderlies.\n",
        "df['Age_Group'].value_counts()"
      ]
    },
    {
      "cell_type": "markdown",
      "metadata": {
        "id": "eQ7F4UxwRdOJ"
      },
      "source": [
        "Juveniles are very few in number."
      ]
    },
    {
      "cell_type": "code",
      "execution_count": null,
      "metadata": {
        "colab": {
          "background_save": true,
          "base_uri": "https://localhost:8080/",
          "height": 68
        },
        "id": "rrGA0fp_Rhtl",
        "outputId": "31563316-70b9-4ed7-c8fd-97b576acf8b7"
      },
      "outputs": [
        {
          "name": "stdout",
          "output_type": "stream",
          "text": [
            "Probability that a patient is a juvenile is 0.04\n",
            "Probability that a patient is an adult is 0.56\n",
            "Probability that a patient is an elderly is 0.39\n"
          ]
        }
      ],
      "source": [
        "# S3.2: What is the probability that a patient is a juvenile? What is the probability that a patient is an adult?\n",
        "# What is the probability that a patient is an elderly?\n",
        "prob_juve = sum(df['Age_Group'] == 1) / df.shape[0]\n",
        "prob_adult = sum(df['Age_Group'] == 2) / df.shape[0]\n",
        "prob_elder = sum(df['Age_Group'] == 3) / df.shape[0]\n",
        "\n",
        "print(f\"Probability that a patient is a juvenile is {prob_juve:.2f}\")\n",
        "print(f\"Probability that a patient is an adult is {prob_adult:.2f}\")\n",
        "print(f\"Probability that a patient is an elderly is {prob_elder:.2f}\")"
      ]
    },
    {
      "cell_type": "markdown",
      "metadata": {
        "id": "Xs7eu9icSaDu"
      },
      "source": [
        "As expected, the probability that a patient having the liver disease is an adult is the greatest amongst the three age groups.\n",
        "\n",
        "The sum of the above three probabilities should be one."
      ]
    },
    {
      "cell_type": "code",
      "execution_count": null,
      "metadata": {
        "colab": {
          "background_save": true,
          "base_uri": "https://localhost:8080/",
          "height": 34
        },
        "id": "jDyYiLnzBAtE",
        "outputId": "3dd5649c-be67-4b44-ad93-7eaf1e2a388b"
      },
      "outputs": [
        {
          "data": {
            "text/plain": [
              "1.0"
            ]
          },
          "execution_count": null,
          "metadata": {},
          "output_type": "execute_result"
        }
      ],
      "source": [
        "# S3.3: Calculate the sum of the above three probabilities.\n",
        "prob_juve + prob_adult + prob_elder"
      ]
    },
    {
      "cell_type": "markdown",
      "metadata": {
        "id": "AxdXbQgay5QT"
      },
      "source": [
        "The remaining three probabilities\n",
        "\n",
        "- What is the probability that a patient has the liver disease given that the patient is a juvenile?\n",
        "\n",
        "- What is the probability that a patient has the liver disease given that the patient is an adult?\n",
        "\n",
        "- What is the probability that a patient has the liver disease given that the patient is an elderly?\n",
        "\n",
        "are **conditional probabilities** because they have a condition involved in them.\n",
        "\n",
        "- In the first case, the condition is that a patient is a juvenile.\n",
        "\n",
        "- In the second case, the condition is that a patient is an adult.\n",
        "\n",
        "- In the third case, the condition is that a patient is an elderly.\n",
        "\n",
        "So to solve the first case, we need to find the number of patients amongst the juveniles having the disease, then calculate the probability of juveniles having the liver disease and then multiply it with the probability that a patient is a juvenile.\n",
        "\n",
        "<img src='https://student-datasets-bucket.s3.ap-south-1.amazonaws.com/images/prob_juve_img1.png' width=700>\n",
        "\n",
        "We will repeat the same process for the adults and the elderlies as well.\n",
        "\n",
        "<img src='https://student-datasets-bucket.s3.ap-south-1.amazonaws.com/images/prob_juve_img2.png' width=700>\n",
        "\n",
        "\n"
      ]
    },
    {
      "cell_type": "code",
      "execution_count": null,
      "metadata": {
        "colab": {
          "background_save": true,
          "base_uri": "https://localhost:8080/",
          "height": 102
        },
        "id": "YcHhZqiQv06N",
        "outputId": "b2e5f96f-a73d-47ab-9811-1878f755c320"
      },
      "outputs": [
        {
          "name": "stdout",
          "output_type": "stream",
          "text": [
            "Probability of a juvenile having the disease is 0.48\n",
            "Probability of a juvenile NOT having the disease is 0.52\n",
            "\n",
            "Probability that a patient has the liver disease given that they are a juvenile: 0.021\n",
            "Probability that a patient DOES NOT have the liver disease given that they are a juvenile: 0.022\n"
          ]
        }
      ],
      "source": [
        "# S3.4: Find the probability that a patient has the liver disease given that they are a juvenile.\n",
        "# Also, find the probability that a patient doesn't have the liver disease given that they are a juvenile.\n",
        "juve_df = df[df['Age_Group'] == 1]\n",
        "juve_prob_disease = sum(juve_df['Disease'] == 1) / juve_df.shape[0]\n",
        "juve_prob_not_disease = sum(juve_df['Disease'] == 2) / juve_df.shape[0]\n",
        "\n",
        "print(f\"Probability of a juvenile having the disease is {juve_prob_disease:.2f}\")\n",
        "print(f\"Probability of a juvenile NOT having the disease is {juve_prob_not_disease:.2f}\")\n",
        "\n",
        "print(f\"\\nProbability that a patient has the liver disease given that they are a juvenile: {prob_juve * juve_prob_disease:.3f}\")\n",
        "print(f\"Probability that a patient DOES NOT have the liver disease given that they are a juvenile: {prob_juve * juve_prob_not_disease:.3f}\")"
      ]
    },
    {
      "cell_type": "markdown",
      "metadata": {
        "id": "AByoR9bO2nZU"
      },
      "source": [
        "The probability tree now looks like this\n",
        "\n",
        "<img src='https://student-datasets-bucket.s3.ap-south-1.amazonaws.com/images/prob_juve_img3.png' width=700>\n"
      ]
    },
    {
      "cell_type": "code",
      "execution_count": null,
      "metadata": {
        "colab": {
          "background_save": true,
          "base_uri": "https://localhost:8080/",
          "height": 102
        },
        "id": "DBQ_4gSXxWuJ",
        "outputId": "9794d0fd-4550-46c3-a80f-473e47c15a1a"
      },
      "outputs": [
        {
          "name": "stdout",
          "output_type": "stream",
          "text": [
            "Probability of an adult having the disease is 0.70\n",
            "Probability of an adult NOT having the disease is 0.30\n",
            "\n",
            "Probability that a patient has the liver disease given that they are an adult: 0.393\n",
            "Probability that a patient DOES NOT have the liver disease given that they are a adult: 0.170\n"
          ]
        }
      ],
      "source": [
        "# S3.5: Find the probability that a patient has the liver disease given that they are an adult.\n",
        "# Also, find the probability that a patient doesn't have the liver disease given that they are an adult.\n",
        "adult_df = df[df['Age_Group'] == 2]\n",
        "adult_prob_disease = sum(adult_df['Disease'] == 1) / adult_df.shape[0]\n",
        "adult_prob_not_disease = sum(adult_df['Disease'] == 2) / adult_df.shape[0]\n",
        "\n",
        "print(f\"Probability of an adult having the disease is {adult_prob_disease:.2f}\")\n",
        "print(f\"Probability of an adult NOT having the disease is {adult_prob_not_disease:.2f}\")\n",
        "\n",
        "print(f\"\\nProbability that a patient has the liver disease given that they are an adult: {prob_adult * adult_prob_disease:.3f}\")\n",
        "print(f\"Probability that a patient DOES NOT have the liver disease given that they are a adult: {prob_adult * adult_prob_not_disease:.3f}\")"
      ]
    },
    {
      "cell_type": "markdown",
      "metadata": {
        "id": "eT6tFMTM5jRb"
      },
      "source": [
        "The probability tree now looks like this\n",
        "\n",
        "<img src='https://student-datasets-bucket.s3.ap-south-1.amazonaws.com/images/prob_juve_img4.png' width=700>\n"
      ]
    },
    {
      "cell_type": "code",
      "execution_count": null,
      "metadata": {
        "colab": {
          "background_save": true,
          "base_uri": "https://localhost:8080/",
          "height": 102
        },
        "id": "DyiECdM6yNOJ",
        "outputId": "84823d5a-520d-4f4d-df7d-db736cafe937"
      },
      "outputs": [
        {
          "name": "stdout",
          "output_type": "stream",
          "text": [
            "Probability of an elderly having the disease is 0.76\n",
            "Probability of an elderly NOT having the disease is 0.24\n",
            "\n",
            "Probability that a patient has the liver disease given that they are an elderly: 0.300\n",
            "Probability that a patient DOES NOT have the liver disease given that they are a elderly: 0.094\n"
          ]
        }
      ],
      "source": [
        "# S3.6: Find the probability that a patient has the liver disease given that they are an elderly.\n",
        "# Also, find the probability that a patient doesn't have the liver disease given that they are an elderly.\n",
        "elder_df = df[df['Age_Group'] == 3]\n",
        "elder_prob_disease = sum(elder_df['Disease'] == 1) / elder_df.shape[0]\n",
        "elder_prob_not_disease = sum(elder_df['Disease'] == 2) / elder_df.shape[0]\n",
        "\n",
        "print(f\"Probability of an elderly having the disease is {elder_prob_disease:.2f}\")\n",
        "print(f\"Probability of an elderly NOT having the disease is {elder_prob_not_disease:.2f}\")\n",
        "\n",
        "print(f\"\\nProbability that a patient has the liver disease given that they are an elderly: {prob_elder * elder_prob_disease:.3f}\")\n",
        "print(f\"Probability that a patient DOES NOT have the liver disease given that they are a elderly: {prob_elder * elder_prob_not_disease:.3f}\")"
      ]
    },
    {
      "cell_type": "markdown",
      "metadata": {
        "id": "jOwspnKj7dxW"
      },
      "source": [
        "The probability tree now looks like this\n",
        "\n",
        "<img src='https://student-datasets-bucket.s3.ap-south-1.amazonaws.com/images/prob_juve_img5.png' width=700>\n"
      ]
    },
    {
      "cell_type": "markdown",
      "metadata": {
        "id": "q-0bv0rQxf8a"
      },
      "source": [
        "You can collect the favourable cases, i.e, the juvenile patients having the disease using the `&` operator and the calculate the probabilities."
      ]
    },
    {
      "cell_type": "code",
      "execution_count": null,
      "metadata": {
        "colab": {
          "base_uri": "https://localhost:8080/",
          "height": 51
        },
        "id": "9argy0GgTD8T",
        "outputId": "962f6d5c-a2a2-4e6d-eb38-a65576efc0be"
      },
      "outputs": [
        {
          "name": "stdout",
          "output_type": "stream",
          "text": [
            "Probability that a patient has the liver disease given that they are a juvenile: 0.021\n",
            "Probability that a patient DOES NOT have the liver disease given that they are a juvenile: 0.022\n"
          ]
        }
      ],
      "source": [
        "# T3.1: Find the probability that a patient has the liver disease given that they are a juvenile.\n",
        "# Also, find the probability that a patient doesn't have the liver disease given that they are a juvenile.\n",
        "prob_juve_and_disease = df.loc[(df['Age_Group'] == 1) & (df['Disease'] == 1), 'Age_Group'].shape[0] / df.shape[0]\n",
        "prob_juve_and_not_disease = df.loc[(df['Age_Group'] == 1) & (df['Disease'] == 2), 'Age_Group'].shape[0] / df.shape[0]\n",
        "\n",
        "print(f\"Probability that a patient has the liver disease given that they are a juvenile: {prob_juve_and_disease:.3f}\")\n",
        "print(f\"Probability that a patient DOES NOT have the liver disease given that they are a juvenile: {prob_juve_and_not_disease:.3f}\")"
      ]
    },
    {
      "cell_type": "markdown",
      "metadata": {
        "id": "X64RV6oM-KRD"
      },
      "source": [
        "**Note:** We can apply the `&` operator only when the occurrence of two events are independent of each other. Age is not the cause of the liver disease. Hence, age and liver disease are independent of each other. Statistically, there is a relatively high probability that an adult is more likely to have the  disease. Still, it doesn't mean that age is the cause of liver diseases.\n",
        "\n",
        "It is the same as saying that it is not necessary that all tall players are good basketball players. The tall players have more advantage than short players."
      ]
    },
    {
      "cell_type": "code",
      "execution_count": null,
      "metadata": {
        "colab": {
          "base_uri": "https://localhost:8080/",
          "height": 102
        },
        "id": "jUTSkhHT9VuA",
        "outputId": "78b5e561-8e9c-4dc1-c9fb-5cba0c779383"
      },
      "outputs": [
        {
          "name": "stdout",
          "output_type": "stream",
          "text": [
            "Probability that a patient has the liver disease given that they are an adult: 0.393\n",
            "Probability that a patient DOES NOT have the liver disease given that they are an adult: 0.170\n",
            "\n",
            "Probability that a patient has the liver disease given that they are an elderly: 0.30\n",
            "Probability that a patient DOES NOT have the liver disease given that they are an elderly: 0.094\n"
          ]
        }
      ],
      "source": [
        "# S3.7: Find the remaining two conditional probabilities.\n",
        "prob_adult_and_disease = df.loc[(df['Age_Group'] == 2) & (df['Disease'] == 1), 'Age_Group'].shape[0] / df.shape[0]\n",
        "prob_adult_and_not_disease = df.loc[(df['Age_Group'] == 2) & (df['Disease'] == 2), 'Age_Group'].shape[0] / df.shape[0]\n",
        "\n",
        "prob_elder_and_disease = df.loc[(df['Age_Group'] == 3) & (df['Disease'] == 1), 'Age_Group'].shape[0] / df.shape[0]\n",
        "prob_elder_and_not_disease = df.loc[(df['Age_Group'] == 3) & (df['Disease'] == 2), 'Age_Group'].shape[0] / df.shape[0]\n",
        "\n",
        "print(f\"Probability that a patient has the liver disease given that they are an adult: {prob_adult_and_disease:.3f}\")\n",
        "print(f\"Probability that a patient DOES NOT have the liver disease given that they are an adult: {prob_adult_and_not_disease:.3f}\")\n",
        "\n",
        "print(f\"\\nProbability that a patient has the liver disease given that they are an elderly: {prob_elder_and_disease:.2f}\")\n",
        "print(f\"Probability that a patient DOES NOT have the liver disease given that they are an elderly: {prob_elder_and_not_disease:.3f}\")"
      ]
    },
    {
      "cell_type": "markdown",
      "metadata": {
        "id": "HupItHMm_uC8"
      },
      "source": [
        "So the conditional probabilities match with the ones calculated earlier."
      ]
    },
    {
      "cell_type": "markdown",
      "metadata": {
        "id": "v_ausdG9qe9s"
      },
      "source": [
        "---"
      ]
    },
    {
      "cell_type": "markdown",
      "metadata": {
        "id": "HvOaSMNio2XI"
      },
      "source": [
        "#### Activities\n",
        "\n",
        "**Teacher Activities**\n",
        "\n",
        "1. Probability (Class Copy)\n",
        "\n",
        "   Link on Panel\n",
        "    \n",
        "2. Probability (Reference)\n",
        "\n",
        "   Link on Panel"
      ]
    },
    {
      "cell_type": "markdown",
      "metadata": {
        "id": "MEknSzUYo1ob"
      },
      "source": [
        "---"
      ]
    }
  ],
  "metadata": {
    "colab": {
      "provenance": [],
      "include_colab_link": true
    },
    "kernelspec": {
      "display_name": "Python 3",
      "name": "python3"
    }
  },
  "nbformat": 4,
  "nbformat_minor": 0
}